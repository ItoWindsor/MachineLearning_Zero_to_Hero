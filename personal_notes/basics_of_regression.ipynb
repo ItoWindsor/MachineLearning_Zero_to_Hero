{
 "cells": [
  {
   "metadata": {},
   "cell_type": "markdown",
   "source": [
    "# Basic of regression \n",
    "#### Personal Notes"
   ],
   "id": "5d7de66e160d7297"
  },
  {
   "metadata": {},
   "cell_type": "markdown",
   "source": "# I - Introduction",
   "id": "fe059c0bc073853e"
  },
  {
   "metadata": {},
   "cell_type": "markdown",
   "source": "## I.1) What's all of this about",
   "id": "3cc85887ee1d0501"
  },
  {
   "metadata": {},
   "cell_type": "markdown",
   "source": [
    "**Supervised learning** is a class of problem in Machine Learning where the output/dependent variables/response/target variable is known and the target variable is a quantitative measurement. Our goal on this problem is to infer or predict as good as we can the dependant variable through some inputs/predictors/independent variables. In fact this task can be viewed as a **function approximation**       \n",
    "Here we will only talk about regression."
   ],
   "id": "7d160567559c1ce5"
  },
  {
   "metadata": {},
   "cell_type": "markdown",
   "source": "## I.2) Notations",
   "id": "353690e684fa3864"
  },
  {
   "metadata": {},
   "cell_type": "markdown",
   "source": [
    "In the following note we will denote by $X$ the input variable and $Y$ the target variable with $X \\in \\mathbb{R}^p$ and $Y \\in \\mathbb{R}$ with $p$ the number of features.       \n",
    "If we work with the full dataset we will denote $\\mathbf{X} \\in \\mathbb{M}_{N,p} \\left( \\mathbb{R} \\right)$ the matrix of observations such that $N$ is the number of observations.         \n",
    "If we want to talk about all the observations of the $j$ predictor (with $1 \\leq j \\leq p$) we will denote it by $\\mathbf{x}_j \\in \\mathbb{R}^N$ and in the same way if we consider the whole vector of target variable, we will use $\\mathbf{Y}$        \n",
    "If we want to talk of the i-th observation (with $1 \\leq i \\leq N$) of each predictor, we will denote it by $x_i \\in \\mathbb{R}^N$ "
   ],
   "id": "7810134177e216e"
  },
  {
   "metadata": {},
   "cell_type": "markdown",
   "source": "# II - Statistical Decision Theory",
   "id": "3814f64e428a7b19"
  },
  {
   "metadata": {},
   "cell_type": "markdown",
   "source": [
    "Let $X \\in \\mathbb{R}^P$ a real valued random input vector and $Y \\in \\mathbb{R}$ a real valued random output variable, with joint distribution $\\mathbb{P}r \\left( X,Y \\right)$. We seek a function $f$ such that : \n",
    "$$\n",
    "\\begin{equation*}\n",
    "    Y = f \\left( X \\right) \n",
    "\\end{equation*}\n",
    "$$\n",
    "To determine if a function $f$ is a good candidate, we need to estimate the error and thus need a \"Loss Function\" $L$. The most common is the \"squared error loss\", i.e :    \n",
    "$$\n",
    "L : y,z \\mapsto (y - z)^2\n",
    "$$\n",
    "Which leads us to the following criterion : \n",
    "$$\n",
    "EPE \\left( f \\right) = \\mathbb{E} \\left[ L \\left( Y ,f \\left( X \\right) \\right) \\right] = \\mathbb{E} \\left[ \\left( Y - f \\left( X \\right) \\right)^2 \\right]  \n",
    "$$\n",
    "In this particular setting, the best candidate for $f$ is :  \n",
    "$$\n",
    "f : x \\mapsto \\mathbb{E} \\left[ Y | X = x \\right] \n",
    "$$ \n",
    "This function f is called the **regression function**."
   ],
   "id": "130d3ee327983559"
  },
  {
   "metadata": {},
   "cell_type": "markdown",
   "source": "# Sources",
   "id": "58b75b917c3c88b8"
  },
  {
   "metadata": {},
   "cell_type": "markdown",
   "source": [
    "[1] Hastie T., Tibshirani R., Friedman J., \"Elements of Statistical Learning\", 2009         \n",
    "[2] Bishop C., \"Pattern recognition and machine learning\", 2006"
   ],
   "id": "4c2823702486e6d6"
  }
 ],
 "metadata": {
  "kernelspec": {
   "display_name": "Python 3",
   "language": "python",
   "name": "python3"
  },
  "language_info": {
   "codemirror_mode": {
    "name": "ipython",
    "version": 2
   },
   "file_extension": ".py",
   "mimetype": "text/x-python",
   "name": "python",
   "nbconvert_exporter": "python",
   "pygments_lexer": "ipython2",
   "version": "2.7.6"
  }
 },
 "nbformat": 4,
 "nbformat_minor": 5
}
