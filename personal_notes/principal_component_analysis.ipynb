{
 "cells": [
  {
   "metadata": {},
   "cell_type": "markdown",
   "source": [
    "# Principal Component Analysis      \n",
    "#### Personal Notes "
   ],
   "id": "8c2d4f207d2897c"
  },
  {
   "metadata": {
    "ExecuteTime": {
     "end_time": "2025-01-07T18:01:52.671799Z",
     "start_time": "2025-01-07T18:01:52.668938Z"
    }
   },
   "cell_type": "code",
   "source": [
    "import numpy as np\n",
    "import pandas as pd \n",
    "import matplotlib.pyplot as plt"
   ],
   "id": "568a098f2fa3301b",
   "outputs": [],
   "execution_count": 3
  },
  {
   "metadata": {},
   "cell_type": "markdown",
   "source": [
    "Suppose that we have a dataset $\\mathbf{X}$ of $N$ points and $p$ features (i.e : $\\mathbf{X} \\in \\mathbb{M}_{n,p} \\left( \\mathbb{R} \\right)$)      \n",
    "If we end up in a situation where $p$ is too big (either arbitrary too big or if the decision process is that $p$ >>> $N$) then we could be willing to reduce the dimension of our problem, i.e : find a subspace of dimension $k$ such that $k < p$ that would be \"relevant\" to our problem.      \n",
    "Be relevant we mean that we want to end up with a smaller number of features but those that maximise the predictive power.      \n",
    "\n",
    "Therefore we need to find a way to determine : \n",
    "- What dimension should be the latent space ? \n",
    "- How to find the features that maximise the predictive power ? "
   ],
   "id": "78d58d221fb11e7c"
  },
  {
   "metadata": {},
   "cell_type": "markdown",
   "source": "As the goal of a PCA is to reduce the dimension of the problem, we have to determine \"which dimension\" ... ",
   "id": "3eb6e0c06710d539"
  },
  {
   "metadata": {},
   "cell_type": "markdown",
   "source": [
    "There are two ways to start the PCA algorithm : \n",
    "\n",
    "First we can compute the **E**igen **V**alue **D**ecomposition on the correlation matrix $S = \\mathbf{X}^T \\mathbf{X}$    \n",
    "Or we can compute the **S**ingular **V**alue **D**ecomposition on the matrix $\\mathbf{X}$"
   ],
   "id": "8b31f88ba1a6e898"
  },
  {
   "metadata": {
    "ExecuteTime": {
     "end_time": "2025-01-07T23:40:22.563864Z",
     "start_time": "2025-01-07T23:40:22.559744Z"
    }
   },
   "cell_type": "code",
   "source": [
    "N = 500\n",
    "k = 2 # true number of features\n",
    "p = 8 # total number of features \n",
    "mu_arr = np.random.randint(low = -5, high= 5, size= k)\n",
    "std_arr = np.random.randint(low = 1, high= 4, size= k)\n",
    "\n",
    "eps = np.random.normal(0, 3, size = (N ,p-k))\n",
    "indexes = np.random.choice(np.arange(k), size=p-k, replace=True)\n",
    "\n",
    "X = np.random.normal(mu_arr, std_arr, size = (N,k))\n",
    "X = np.concatenate([X,np.cumsum(X[:,indexes], axis = 1) + eps],axis = 1)"
   ],
   "id": "404c8cb07ce8aa17",
   "outputs": [],
   "execution_count": 96
  },
  {
   "metadata": {
    "ExecuteTime": {
     "end_time": "2025-01-07T23:40:22.950321Z",
     "start_time": "2025-01-07T23:40:22.947593Z"
    }
   },
   "cell_type": "code",
   "source": "X",
   "id": "bdc29a5dc447a6be",
   "outputs": [
    {
     "data": {
      "text/plain": [
       "array([[ -7.23381203,   2.84894433,  -9.47447239, ...,  -9.70119557,\n",
       "         -4.34042188, -15.15222352],\n",
       "       [ -6.980674  ,   1.47418378,  -7.65424533, ...,  -7.90060287,\n",
       "        -16.28805769, -18.00864993],\n",
       "       [ -6.25583506,   0.9978407 ,  -3.77459371, ..., -12.96148924,\n",
       "         -8.81645714, -20.86887057],\n",
       "       ...,\n",
       "       [ -3.8947421 ,  -0.25051529,   2.24233811, ..., -11.12627005,\n",
       "         -3.1338072 , -11.02721361],\n",
       "       [ -2.90451827,  -0.79689384,  -1.25631731, ...,  -9.39132731,\n",
       "         -6.85649147, -13.3350499 ],\n",
       "       [  1.42296655,   0.66715642,   1.9361445 , ...,   2.86089099,\n",
       "          3.5274589 ,   4.24698855]])"
      ]
     },
     "execution_count": 97,
     "metadata": {},
     "output_type": "execute_result"
    }
   ],
   "execution_count": 97
  },
  {
   "metadata": {
    "ExecuteTime": {
     "end_time": "2025-01-07T23:40:23.292532Z",
     "start_time": "2025-01-07T23:40:23.290288Z"
    }
   },
   "cell_type": "code",
   "source": [
    "empirical_mean = X.mean(axis = 0)\n",
    "empirical_std = X.std(axis = 0)"
   ],
   "id": "4bab2b1c7abf671a",
   "outputs": [],
   "execution_count": 98
  },
  {
   "metadata": {
    "ExecuteTime": {
     "end_time": "2025-01-07T23:40:23.580075Z",
     "start_time": "2025-01-07T23:40:23.577475Z"
    }
   },
   "cell_type": "code",
   "source": [
    "print(empirical_mean)\n",
    "print(empirical_std)"
   ],
   "id": "a1c135366001ee6b",
   "outputs": [
    {
     "name": "stdout",
     "output_type": "stream",
     "text": [
      "[ -5.08876912   0.96475952  -5.1467032   -3.94296321  -3.22011414\n",
      "  -8.28139728  -7.20103883 -12.53872622]\n",
      "[ 3.03392255  2.10542094  4.23787868  4.74091979  5.67147516  7.60286243\n",
      "  8.63912055 11.0777312 ]\n"
     ]
    }
   ],
   "execution_count": 99
  },
  {
   "metadata": {
    "ExecuteTime": {
     "end_time": "2025-01-07T23:40:23.955341Z",
     "start_time": "2025-01-07T23:40:23.953322Z"
    }
   },
   "cell_type": "code",
   "source": "X_std = (X - empirical_mean) / empirical_std",
   "id": "3c3be2cc2c10de04",
   "outputs": [],
   "execution_count": 100
  },
  {
   "metadata": {
    "ExecuteTime": {
     "end_time": "2025-01-07T23:40:24.288759Z",
     "start_time": "2025-01-07T23:40:24.285880Z"
    }
   },
   "cell_type": "code",
   "source": "X_std",
   "id": "bb4454c4eaa5e555",
   "outputs": [
    {
     "data": {
      "text/plain": [
       "array([[-0.70701967,  0.89492071, -1.02121121, ..., -0.18674523,\n",
       "         0.33112363, -0.23592352],\n",
       "       [-0.62358377,  0.24195839, -0.59169748, ...,  0.05008566,\n",
       "        -1.05184536, -0.49377653],\n",
       "       [-0.38467229,  0.01571238,  0.32377272, ..., -0.61556973,\n",
       "        -0.18698875, -0.75197206],\n",
       "       ...,\n",
       "       [ 0.39355883, -0.57721227,  1.74357075, ..., -0.37418443,\n",
       "         0.47079232,  0.13644604],\n",
       "       [ 0.71994285, -0.83672264,  0.91800313, ..., -0.14598844,\n",
       "         0.03988223, -0.07188509],\n",
       "       [ 2.14630913, -0.14135088,  1.67131913, ...,  1.46553859,\n",
       "         1.24185068,  1.51526648]])"
      ]
     },
     "execution_count": 101,
     "metadata": {},
     "output_type": "execute_result"
    }
   ],
   "execution_count": 101
  },
  {
   "metadata": {
    "ExecuteTime": {
     "end_time": "2025-01-08T13:40:30.505541Z",
     "start_time": "2025-01-08T13:40:30.502386Z"
    }
   },
   "cell_type": "code",
   "source": "U, S, Vt = np.linalg.svd(X_std, full_matrices=False)",
   "id": "c34bcdb5a9a3145e",
   "outputs": [],
   "execution_count": 114
  },
  {
   "metadata": {
    "ExecuteTime": {
     "end_time": "2025-01-08T13:40:30.938718Z",
     "start_time": "2025-01-08T13:40:30.936231Z"
    }
   },
   "cell_type": "code",
   "source": "S",
   "id": "416ca58ce1b5943e",
   "outputs": [
    {
     "data": {
      "text/plain": [
       "array([51.48848714, 26.87397496, 15.00911591, 12.82596999, 10.71821765,\n",
       "        8.13390146,  6.63847091,  3.44038614])"
      ]
     },
     "execution_count": 115,
     "metadata": {},
     "output_type": "execute_result"
    }
   ],
   "execution_count": 115
  },
  {
   "metadata": {
    "ExecuteTime": {
     "end_time": "2025-01-07T23:40:32.537189Z",
     "start_time": "2025-01-07T23:40:32.534284Z"
    }
   },
   "cell_type": "code",
   "source": [
    "exp_var_pca = S**2/np.sum(S**2)\n",
    "cum_sum_explained_var = np.cumsum(exp_var_pca)"
   ],
   "id": "63688cf666ed5a19",
   "outputs": [],
   "execution_count": 104
  },
  {
   "metadata": {
    "ExecuteTime": {
     "end_time": "2025-01-07T23:40:33.083015Z",
     "start_time": "2025-01-07T23:40:33.080064Z"
    }
   },
   "cell_type": "code",
   "source": "exp_var_pca",
   "id": "e93fb4c48b69dcd7",
   "outputs": [
    {
     "data": {
      "text/plain": [
       "array([0.66276608, 0.18055263, 0.05631839, 0.04112638, 0.02872005,\n",
       "       0.01654009, 0.01101732, 0.00295906])"
      ]
     },
     "execution_count": 105,
     "metadata": {},
     "output_type": "execute_result"
    }
   ],
   "execution_count": 105
  },
  {
   "metadata": {
    "ExecuteTime": {
     "end_time": "2025-01-07T23:40:34.325594Z",
     "start_time": "2025-01-07T23:40:34.253558Z"
    }
   },
   "cell_type": "code",
   "source": [
    "plt.bar(range(0,len(exp_var_pca)), exp_var_pca, alpha=0.5, align='center', label='Individual explained variance')\n",
    "plt.step(range(0,len(cum_sum_explained_var)), cum_sum_explained_var, where='mid',label='Cumulative explained variance')"
   ],
   "id": "4bc81123a06488a9",
   "outputs": [
    {
     "data": {
      "text/plain": [
       "[<matplotlib.lines.Line2D at 0x11288fe00>]"
      ]
     },
     "execution_count": 106,
     "metadata": {},
     "output_type": "execute_result"
    },
    {
     "data": {
      "text/plain": [
       "<Figure size 640x480 with 1 Axes>"
      ],
      "image/png": "[encoded data removed]"
     },
     "metadata": {},
     "output_type": "display_data"
    }
   ],
   "execution_count": 106
  },
  {
   "metadata": {
    "ExecuteTime": {
     "end_time": "2025-01-07T23:41:19.233816Z",
     "start_time": "2025-01-07T23:41:19.231031Z"
    }
   },
   "cell_type": "code",
   "source": "Vt[:k, :] ",
   "id": "ee14038c94e6c46b",
   "outputs": [
    {
     "data": {
      "text/plain": [
       "array([[ 0.33392528,  0.23654936,  0.28195698,  0.34923841,  0.35918638,\n",
       "         0.40494653,  0.40435913,  0.41781365],\n",
       "       [-0.48498393,  0.66899833, -0.47226322, -0.02753934,  0.26417572,\n",
       "         0.00479288,  0.15123   , -0.02754201]])"
      ]
     },
     "execution_count": 108,
     "metadata": {},
     "output_type": "execute_result"
    }
   ],
   "execution_count": 108
  },
  {
   "metadata": {},
   "cell_type": "code",
   "outputs": [],
   "execution_count": null,
   "source": "",
   "id": "7a2d206428f86d11"
  }
 ],
 "metadata": {
  "kernelspec": {
   "display_name": "Python 3",
   "language": "python",
   "name": "python3"
  },
  "language_info": {
   "codemirror_mode": {
    "name": "ipython",
    "version": 2
   },
   "file_extension": ".py",
   "mimetype": "text/x-python",
   "name": "python",
   "nbconvert_exporter": "python",
   "pygments_lexer": "ipython2",
   "version": "2.7.6"
  }
 },
 "nbformat": 4,
 "nbformat_minor": 5
}
