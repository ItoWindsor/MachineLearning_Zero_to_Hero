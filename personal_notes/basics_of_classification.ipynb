{
 "cells": [
  {
   "metadata": {},
   "cell_type": "markdown",
   "source": [
    "# Basic of classification \n",
    "#### Personal Notes"
   ],
   "id": "eabf7d487b76fc92"
  },
  {
   "metadata": {},
   "cell_type": "markdown",
   "source": "## I.1) What's all of this about",
   "id": "42c7541e0a936ae4"
  },
  {
   "metadata": {},
   "cell_type": "markdown",
   "source": [
    "Supervised learning is a class of problem in Machine Learning where the output/dependent variables/response/target variable is known and the target variable is a qualitative/categorical variable. Our goal on this problem is to infer or predict as good as we can the dependant variable.       \n",
    "Here we will only talk about classification."
   ],
   "id": "26e679bbb890be19"
  },
  {
   "metadata": {},
   "cell_type": "markdown",
   "source": "## I.2) Notations",
   "id": "b9f970ec45127c8c"
  },
  {
   "metadata": {},
   "cell_type": "code",
   "outputs": [],
   "execution_count": null,
   "source": "",
   "id": "636ed7a4cbd8ebe6"
  },
  {
   "metadata": {},
   "cell_type": "markdown",
   "source": "# Sources",
   "id": "555ef9c2951763eb"
  },
  {
   "metadata": {},
   "cell_type": "markdown",
   "source": [
    "[1] Hastie T., Tibshirani R., Friedman J., \"Elements of Statistical Learning\", 2009         \n",
    "[2] Bishop C., \"Pattern recognition and machine learning\", 2006"
   ],
   "id": "38b895a38e5f65b7"
  },
  {
   "metadata": {},
   "cell_type": "code",
   "outputs": [],
   "execution_count": null,
   "source": "",
   "id": "d51d7cf6f333f59b"
  }
 ],
 "metadata": {
  "kernelspec": {
   "display_name": "Python 3",
   "language": "python",
   "name": "python3"
  },
  "language_info": {
   "codemirror_mode": {
    "name": "ipython",
    "version": 2
   },
   "file_extension": ".py",
   "mimetype": "text/x-python",
   "name": "python",
   "nbconvert_exporter": "python",
   "pygments_lexer": "ipython2",
   "version": "2.7.6"
  }
 },
 "nbformat": 4,
 "nbformat_minor": 5
}
